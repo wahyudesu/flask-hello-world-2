{
 "cells": [
  {
   "cell_type": "code",
   "execution_count": 6,
   "metadata": {},
   "outputs": [],
   "source": [
    "import os\n",
    "from dotenv import load_dotenv\n",
    "from supabase import create_client, Client\n",
    "\n",
    "# Load variables from .env file\n",
    "load_dotenv()\n",
    "\n",
    "# Ambil nilai URL dan Key dari file .env\n",
    "url: str = os.getenv(\"SUPABASE_URL\")\n",
    "key: str = os.getenv(\"SUPABASE_KEY\")\n",
    "\n",
    "# Membuat client Supabase\n",
    "supabase: Client = create_client(url, key)\n",
    "\n",
    "# Fungsi untuk upload file ke Supabase Storage\n",
    "def upload_file_to_storage(file_path: str, bucket_name: str, storage_path: str):\n",
    "    \"\"\"Upload file ke Supabase Storage\"\"\"\n",
    "    \n",
    "    # Buka file yang akan diupload\n",
    "    with open(file_path, \"rb\") as file:\n",
    "        # Upload file ke bucket\n",
    "        response = supabase.storage.from_(bucket_name).upload(storage_path, file)\n",
    "\n",
    "# Contoh penggunaan\n",
    "file_path = \"iwak garangan.pdf\"  # Ganti dengan path file yang ingin diupload\n",
    "bucket_name = \"Pdf document homework\"  # Nama bucket yang sesuai\n",
    "storage_path = \"uploads/yourfile.pdf\"  # Path tempat file disimpan dalam bucket\n",
    "\n",
    "upload_file_to_storage(file_path, bucket_name, storage_path)"
   ]
  }
 ],
 "metadata": {
  "kernelspec": {
   "display_name": "venv",
   "language": "python",
   "name": "python3"
  },
  "language_info": {
   "codemirror_mode": {
    "name": "ipython",
    "version": 3
   },
   "file_extension": ".py",
   "mimetype": "text/x-python",
   "name": "python",
   "nbconvert_exporter": "python",
   "pygments_lexer": "ipython3",
   "version": "3.12.7"
  }
 },
 "nbformat": 4,
 "nbformat_minor": 2
}
